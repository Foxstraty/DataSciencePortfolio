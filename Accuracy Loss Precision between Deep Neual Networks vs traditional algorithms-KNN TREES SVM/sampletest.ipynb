{
 "cells": [
  {
   "cell_type": "code",
   "execution_count": 1,
   "metadata": {},
   "outputs": [],
   "source": [
    "# import necessary libraries\n",
    "import numpy as np\n",
    "import matplotlib.pyplot as plt\n",
    "import os\n",
    "import cv2\n",
    "from sklearn.model_selection import train_test_split\n",
    "from keras.models import Sequential\n",
    "import tensorflow as tf\n",
    "from keras.layers import Dense, Dropout, Activation, Flatten, Conv2D, MaxPooling2D\n",
    "from keras.utils import np_utils\n",
    "from keras.preprocessing.image import ImageDataGenerator\n",
    "from keras.optimizers import RMSprop\n",
    "from tensorflow.keras.metrics import Accuracy, Precision, Recall\n",
    "from selenium import webdriver\n",
    "import urllib.request\n",
    "import zipfile\n",
    "import random\n"
   ]
  },
  {
   "cell_type": "code",
   "execution_count": 2,
   "metadata": {},
   "outputs": [
    {
     "name": "stderr",
     "output_type": "stream",
     "text": [
      "/var/folders/r0/hg5c83bj3ml4mrvpmnch9nyw0000gn/T/ipykernel_9574/779036462.py:10: DeprecationWarning: executable_path has been deprecated, please pass in a Service object\n",
      "  driver = webdriver.Chrome(chrome_path)\n"
     ]
    },
    {
     "data": {
      "text/plain": [
       "('/tmp/cats-and-dogs.zip', <http.client.HTTPMessage at 0x2959b9240>)"
      ]
     },
     "execution_count": 2,
     "metadata": {},
     "output_type": "execute_result"
    }
   ],
   "source": [
    "# set up the image parameters\n",
    "img_rows, img_cols = 150, 150\n",
    "num_classes = 2\n",
    "batch_size = 32\n",
    "\n",
    "# DONOT CLOSE THE SELENEIUM AUTOMATED CHROME BROWSER\n",
    "# Set the path to the chromedriver executable\n",
    "# Replace with the path to your own chromedriver executable\n",
    "chrome_path = 'path/to/chromedriver.exe'\n",
    "driver = webdriver.Chrome(chrome_path)\n",
    "\n",
    "# Navigate to the download page\n",
    "driver.get('https://download.microsoft.com/download/3/E/1/3E1C3F21-ECDB-4869-8368-6DEBA77B919F/kagglecatsanddogs_5340.zip')\n",
    "\n",
    "\n",
    "local_zip = '/tmp/cats-and-dogs.zip'\n",
    "urllib.request.urlretrieve('https://download.microsoft.com/download/3/E/1/3E1C3F21-ECDB-4869-8368-6DEBA77B919F/kagglecatsanddogs_5340.zip', local_zip)"
   ]
  },
  {
   "cell_type": "code",
   "execution_count": 3,
   "metadata": {},
   "outputs": [],
   "source": [
    "# Extract the zip file\n",
    "zip_ref = zipfile.ZipFile(local_zip, 'r')\n",
    "\n",
    "extract_path = os.getcwd() + '/PetImages'\n",
    "zip_ref.extractall(extract_path)\n",
    "# zip_ref.extractall('/PetImages')\n",
    "zip_ref.close()\n",
    "# Close the browser\n",
    "driver.quit()"
   ]
  },
  {
   "cell_type": "code",
   "execution_count": 6,
   "metadata": {},
   "outputs": [],
   "source": [
    "dog_dir = extract_path + '/PetImages/Dog'\n",
    "cat_dir = extract_path + '/PetImages/Cat'"
   ]
  },
  {
   "cell_type": "code",
   "execution_count": 7,
   "metadata": {},
   "outputs": [],
   "source": [
    "# read the dog images\n",
    "dog_images = []\n",
    "count = 0\n",
    "for i in os.listdir(dog_dir):\n",
    "    img = cv2.imread(os.path.join(dog_dir, i), cv2.IMREAD_GRAYSCALE)\n",
    "    if img is not None:\n",
    "        dog_images.append(img)\n",
    "        count += 1;\n",
    "        if count >1000:\n",
    "            break;\n",
    "\n",
    "# read the cat images\n",
    "cat_images = []\n",
    "count = 0;\n",
    "for i in os.listdir(cat_dir):\n",
    "    img = cv2.imread(os.path.join(cat_dir, i), cv2.IMREAD_GRAYSCALE)\n",
    "    if img is not None:\n",
    "        cat_images.append(img)\n",
    "        count+=1;\n",
    "        if count>1000:\n",
    "            break;"
   ]
  },
  {
   "cell_type": "code",
   "execution_count": 8,
   "metadata": {},
   "outputs": [
    {
     "name": "stdout",
     "output_type": "stream",
     "text": [
      "Metal device set to: Apple M1\n",
      "\n",
      "systemMemory: 8.00 GB\n",
      "maxCacheSize: 2.67 GB\n",
      "\n"
     ]
    }
   ],
   "source": [
    "\n",
    "\n",
    "# resize the images to a uniform size\n",
    "dog_images = [cv2.resize(i, (img_rows, img_cols)) for i in dog_images]\n",
    "cat_images = [cv2.resize(i, (img_rows, img_cols)) for i in cat_images]\n",
    "\n",
    "# convert the images to arrays\n",
    "dog_images = np.array(dog_images)\n",
    "cat_images = np.array(cat_images)\n",
    "\n",
    "# concatenate the two sets of images and create labels\n",
    "X = np.concatenate((dog_images, cat_images), axis=0)\n",
    "y = np.concatenate((np.zeros(len(dog_images)), np.ones(len(cat_images))), axis=0)\n",
    "\n",
    "# split the data into training and testing sets\n",
    "X_train, X_test, y_train, y_test = train_test_split(X, y, test_size=0.2, random_state=42)\n",
    "\n",
    "# preprocess the data by normalizing and one-hot encoding the labels\n",
    "X_train = X_train.reshape(X_train.shape[0], img_rows, img_cols, 1)\n",
    "X_test = X_test.reshape(X_test.shape[0], img_rows, img_cols, 1)\n",
    "X_train = X_train.astype('float32')\n",
    "X_test = X_test.astype('float32')\n",
    "X_train /= 255\n",
    "X_test /= 255\n",
    "y_train = np_utils.to_categorical(y_train, num_classes)\n",
    "y_test = np_utils.to_categorical(y_test, num_classes)\n",
    "\n",
    "# create the deep learning model\n",
    "model = Sequential()\n",
    "model.add(Conv2D(32, (3, 3), padding='same', input_shape=X_train.shape[1:]))\n",
    "model.add(Activation('relu'))\n",
    "model.add(MaxPooling2D(pool_size=(2, 2)))\n",
    "model.add(Dropout(0.25))\n",
    "model.add(Conv2D(64, (3, 3), padding='same'))\n",
    "model.add(Activation('relu'))\n",
    "model.add(MaxPooling2D(pool_size=(2, 2)))\n",
    "model.add(Dropout(0.25))\n",
    "model.add(Flatten())\n",
    "model.add(Dense(512))\n",
    "model.add(Activation('relu'))\n",
    "model.add(Dropout(0.5))\n",
    "model.add(Dense(num_classes))\n",
    "model.add(Activation('softmax'))\n",
    "\n",
    "# compile the model\n",
    "model.compile(loss='categorical_crossentropy',\n",
    "              optimizer=RMSprop(),\n",
    "              metrics=['accuracy', tf.keras.metrics.Precision() ])\n",
    "\n",
    "# data augmentation\n",
    "datagen = ImageDataGenerator(\n",
    "        rotation_range=40,\n",
    "        width_shift_range=0.2,\n",
    "        height_shift_range=0.2,\n",
    "        shear_range=0.2,\n",
    "        zoom_range=0.2,\n",
    "        horizontal_flip=True,\n",
    "        fill_mode='nearest')\n",
    "\n"
   ]
  },
  {
   "cell_type": "code",
   "execution_count": 9,
   "metadata": {},
   "outputs": [
    {
     "name": "stdout",
     "output_type": "stream",
     "text": [
      "Epoch 1/3\n"
     ]
    },
    {
     "name": "stderr",
     "output_type": "stream",
     "text": [
      "/var/folders/r0/hg5c83bj3ml4mrvpmnch9nyw0000gn/T/ipykernel_9574/1983063589.py:3: UserWarning: `Model.fit_generator` is deprecated and will be removed in a future version. Please use `Model.fit`, which supports generators.\n",
      "  history = model.fit_generator(datagen.flow(X_train, y_train, batch_size=batch_size),\n",
      "2023-05-14 23:26:42.337782: W tensorflow/tsl/platform/profile_utils/cpu_utils.cc:128] Failed to get CPU frequency: 0 Hz\n"
     ]
    },
    {
     "name": "stdout",
     "output_type": "stream",
     "text": [
      "50/50 [==============================] - 11s 194ms/step - loss: 2.1388 - accuracy: 0.5067 - precision: 0.5067 - val_loss: 0.6873 - val_accuracy: 0.5736 - val_precision: 0.5736\n",
      "Epoch 2/3\n",
      "50/50 [==============================] - 9s 188ms/step - loss: 0.6938 - accuracy: 0.5392 - precision: 0.5392 - val_loss: 0.6858 - val_accuracy: 0.5786 - val_precision: 0.5786\n",
      "Epoch 3/3\n",
      "50/50 [==============================] - 10s 192ms/step - loss: 0.6923 - accuracy: 0.5386 - precision: 0.5386 - val_loss: 0.6883 - val_accuracy: 0.5486 - val_precision: 0.5486\n",
      "Test loss: 0.6882746815681458\n",
      "Test accuracy: 0.5486284494400024\n",
      "Test Precision: 0.5486284494400024\n"
     ]
    }
   ],
   "source": [
    "# fit the model on the augmented data\n",
    "datagen.fit(X_train)\n",
    "history = model.fit_generator(datagen.flow(X_train, y_train, batch_size=batch_size),\n",
    "steps_per_epoch=len(X_train) // batch_size,\n",
    "epochs=3,\n",
    "validation_data=(X_test, y_test),\n",
    "validation_steps=len(X_test) // batch_size)\n",
    "\n",
    "# evaluate the model on the test set\n",
    "score = model.evaluate(X_test, y_test, verbose=0)\n",
    "print('Test loss:', score[0])\n",
    "print('Test accuracy:', score[1])\n",
    "print('Test Precision:', score[2])"
   ]
  },
  {
   "cell_type": "code",
   "execution_count": 10,
   "metadata": {},
   "outputs": [],
   "source": [
    "# compare with traditional machine learning models\n",
    "from sklearn.tree import DecisionTreeClassifier\n",
    "from sklearn.neighbors import KNeighborsClassifier\n",
    "from sklearn.svm import SVC\n",
    "from sklearn.metrics import accuracy_score, precision_score, recall_score, confusion_matrix"
   ]
  },
  {
   "cell_type": "code",
   "execution_count": 11,
   "metadata": {},
   "outputs": [],
   "source": [
    "y_train = y_train.argmax(axis=1)\n",
    "y_test = y_test.argmax(axis=1)"
   ]
  },
  {
   "cell_type": "code",
   "execution_count": 12,
   "metadata": {},
   "outputs": [
    {
     "name": "stdout",
     "output_type": "stream",
     "text": [
      " Comparing the performance of deep learning model with three traditional-[ Decion Tree, KNN, SVM ] machine learning models\n",
      "The accuracy of DeepLearning: 0.5486284494400024 vs Decision Tree: 0.48877805486284287 vs KNN: 0.4763092269326683 vs SVM: 0.5985037406483791\n",
      "The Loss of DeepLearning: 0.6882746815681458 vs Decision Tree: 0.48877805486284287 vs KNN: 0.4763092269326683 vs SVM: 0.5985037406483791\n",
      "The Precision of DeepLearning: 0.5486284494400024 vs Decision Tree: 0.48895450230071796 vs KNN: 0.4758655178657804 vs SVM: 0.5985675621373108\n"
     ]
    }
   ],
   "source": [
    "# create the models\n",
    "dt_clf = DecisionTreeClassifier()\n",
    "knn_clf = KNeighborsClassifier()\n",
    "svm_clf = SVC()\n",
    "\n",
    "\n",
    "\n",
    "# fit the models on the training data\n",
    "dt_clf.fit(X_train.reshape(X_train.shape[0], img_rows*img_cols), y_train)\n",
    "knn_clf.fit(X_train.reshape(X_train.shape[0], img_rows*img_cols), y_train)\n",
    "svm_clf.fit(X_train.reshape(X_train.shape[0], img_rows*img_cols), y_train)\n",
    "\n",
    "# evaluate the models on the test data\n",
    "dt_preds = dt_clf.predict(X_test.reshape(X_test.shape[0], img_rows*img_cols))\n",
    "knn_preds = knn_clf.predict(X_test.reshape(X_test.shape[0], img_rows*img_cols))\n",
    "svm_preds = svm_clf.predict(X_test.reshape(X_test.shape[0], img_rows*img_cols))\n",
    "\n",
    "dt_accuracy = accuracy_score(y_test, dt_preds)\n",
    "knn_accuracy = accuracy_score(y_test, knn_preds)\n",
    "svm_accuracy = accuracy_score(y_test, svm_preds)\n",
    "\n",
    "dt_loss = dt_clf.score(X_test.reshape(X_test.shape[0], img_rows*img_cols), y_test)\n",
    "knn_loss = knn_clf.score(X_test.reshape(X_test.shape[0], img_rows*img_cols), y_test)\n",
    "svm_loss = svm_clf.score(X_test.reshape(X_test.shape[0], img_rows*img_cols), y_test)\n",
    "\n",
    "dt_precision = precision_score(y_test, dt_preds, average='weighted')\n",
    "knn_precision = precision_score(y_test, knn_preds, average='weighted')\n",
    "svm_precision = precision_score(y_test, svm_preds, average='weighted')\n",
    "\n",
    "\n",
    "\n",
    "# print the results\n",
    "print(' Comparing the performance of deep learning model with three traditional-[ Decion Tree, KNN, SVM ] machine learning models')\n",
    "\n",
    "\n",
    "print(f'The accuracy of DeepLearning: {score[1]} vs Decision Tree: {dt_accuracy} vs KNN: {knn_accuracy} vs SVM: {svm_accuracy}')\n",
    "print(f'The Loss of DeepLearning: {score[0]} vs Decision Tree: {dt_loss} vs KNN: {knn_loss} vs SVM: {svm_loss}')\n",
    "print(f'The Precision of DeepLearning: {score[2]} vs Decision Tree: {dt_precision} vs KNN: {knn_precision} vs SVM: {svm_precision}')\n"
   ]
  },
  {
   "cell_type": "code",
   "execution_count": null,
   "metadata": {},
   "outputs": [],
   "source": []
  }
 ],
 "metadata": {
  "kernelspec": {
   "display_name": "base",
   "language": "python",
   "name": "python3"
  },
  "language_info": {
   "codemirror_mode": {
    "name": "ipython",
    "version": 3
   },
   "file_extension": ".py",
   "mimetype": "text/x-python",
   "name": "python",
   "nbconvert_exporter": "python",
   "pygments_lexer": "ipython3",
   "version": "3.10.9"
  },
  "orig_nbformat": 4
 },
 "nbformat": 4,
 "nbformat_minor": 2
}
