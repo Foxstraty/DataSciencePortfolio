[
	{
		"metadata": {
			"outputType": "stream"
		},
		"outputItems": [
			{
				"mimeType": "application/vnd.code.notebook.stderr",
				"data": "/var/folders/r0/hg5c83bj3ml4mrvpmnch9nyw0000gn/T/ipykernel_1076/3146832773.py:10: FutureWarning: The default value of regex will change from True to False in a future version.\n  gme_df['Revenue'] = gme_df['Revenue'].str.replace(',|\\$',\"\")\n"
			}
		]
	},
	{
		"metadata": {
			"outputType": "execute_result",
			"executionCount": 158,
			"metadata": {}
		},
		"outputItems": [
			{
				"mimeType": "text/html",
				"data": "<div>\n<style scoped>\n    .dataframe tbody tr th:only-of-type {\n        vertical-align: middle;\n    }\n\n    .dataframe tbody tr th {\n        vertical-align: top;\n    }\n\n    .dataframe thead th {\n        text-align: right;\n    }\n</style>\n<table border=\"1\" class=\"dataframe\">\n  <thead>\n    <tr style=\"text-align: right;\">\n      <th></th>\n      <th>Date</th>\n      <th>Revenue</th>\n    </tr>\n  </thead>\n  <tbody>\n    <tr>\n      <th>0</th>\n      <td>2020-04-30</td>\n      <td>1021</td>\n    </tr>\n    <tr>\n      <th>1</th>\n      <td>2020-01-31</td>\n      <td>2194</td>\n    </tr>\n    <tr>\n      <th>2</th>\n      <td>2019-10-31</td>\n      <td>1439</td>\n    </tr>\n  </tbody>\n</table>\n</div>"
			},
			{
				"mimeType": "text/plain",
				"data": "         Date Revenue\n0  2020-04-30    1021\n1  2020-01-31    2194\n2  2019-10-31    1439"
			}
		]
	}
]